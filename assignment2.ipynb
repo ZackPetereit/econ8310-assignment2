{
 "cells": [
  {
   "cell_type": "code",
   "execution_count": null,
   "id": "098b2971-5d7a-4d7f-aec2-3400a31a72b0",
   "metadata": {},
   "outputs": [],
   "source": [
    "import pandas as pd\n",
    "from sklearn.model_selection import train_test_split\n",
    "from sklearn.ensemble import RandomForestClassifier\n",
    "from sklearn.metrics import accuracy_score\n",
    "\n",
    "# Step 1: Load the training data\n",
    "train_url = \"https://github.com/dustywhite7/Econ8310/raw/master/AssignmentData/assignment3.csv\"\n",
    "data = pd.read_csv(train_url)\n",
    "\n",
    "# Step 2: Prepare the data\n",
    "# Assuming 'meal' is the target and other columns are features\n",
    "X = data.drop(columns=['meal'])\n",
    "y = data['meal']\n",
    "\n",
    "# Split the data into training and validation sets\n",
    "X_train, X_val, y_train, y_val = train_test_split(X, y, test_size=0.2, random_state=42)\n",
    "\n",
    "# Step 3: Train the Random Forest model\n",
    "model = RandomForestClassifier(random_state=42)\n",
    "modelFit = model.fit(X_train, y_train)\n",
    "\n",
    "# Step 4: Evaluate the model\n",
    "y_pred_val = model.predict(X_val)\n",
    "print(\"Validation Accuracy:\", accuracy_score(y_val, y_pred_val))\n",
    "\n",
    "# Step 5: Load the test data\n",
    "test_url = \"https://github.com/dustywhite7/Econ8310/raw/master/AssignmentData/assignment3test.csv\"\n",
    "test_data = pd.read_csv(test_url)\n",
    "\n",
    "# Generate predictions for the test data\n",
    "pred = modelFit.predict(test_data)\n",
    "\n",
    "# Step 6: Save predictions as a series\n",
    "pred_series = pd.Series(pred, name=\"Predictions\")\n",
    "print(pred_series)\n"
   ]
  }
 ],
 "metadata": {
  "kernelspec": {
   "display_name": "Python 3 (ipykernel)",
   "language": "python",
   "name": "python3"
  },
  "language_info": {
   "codemirror_mode": {
    "name": "ipython",
    "version": 3
   },
   "file_extension": ".py",
   "mimetype": "text/x-python",
   "name": "python",
   "nbconvert_exporter": "python",
   "pygments_lexer": "ipython3",
   "version": "3.9.13"
  }
 },
 "nbformat": 4,
 "nbformat_minor": 5
}
