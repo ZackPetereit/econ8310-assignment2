{
 "cells": [
  {
   "cell_type": "code",
   "execution_count": 4,
   "id": "098b2971-5d7a-4d7f-aec2-3400a31a72b0",
   "metadata": {},
   "outputs": [
    {
     "name": "stdout",
     "output_type": "stream",
     "text": [
      "Validation Accuracy: 0.8454481298517996\n",
      "0      0\n",
      "1      0\n",
      "2      0\n",
      "3      0\n",
      "4      0\n",
      "      ..\n",
      "995    0\n",
      "996    0\n",
      "997    0\n",
      "998    0\n",
      "999    0\n",
      "Name: Predictions, Length: 1000, dtype: int64\n"
     ]
    }
   ],
   "source": [
    "import pandas as pd\n",
    "from sklearn.model_selection import train_test_split\n",
    "from sklearn.ensemble import RandomForestClassifier\n",
    "from sklearn.metrics import accuracy_score\n",
    "\n",
    "# Step 1: Load the training data\n",
    "train_url = \"https://github.com/dustywhite7/Econ8310/raw/master/AssignmentData/assignment3.csv\"\n",
    "data = pd.read_csv(train_url)\n",
    "\n",
    "# Step 2: Check and preprocess the data\n",
    "# Identify categorical columns\n",
    "categorical_columns = X.select_dtypes(include=['object']).columns\n",
    "\n",
    "# Apply one-hot encoding to categorical columns\n",
    "X = pd.get_dummies(X, columns=categorical_columns, drop_first=True)\n",
    "\n",
    "# Split the data into training and validation sets\n",
    "X_train, X_val, y_train, y_val = train_test_split(X, y, test_size=0.2, random_state=42)\n",
    "\n",
    "# Step 3: Train the Random Forest model\n",
    "model = RandomForestClassifier(random_state=42)\n",
    "modelFit = model.fit(X_train, y_train)\n",
    "\n",
    "# Step 4: Evaluate the model\n",
    "y_pred_val = model.predict(X_val)\n",
    "print(\"Validation Accuracy:\", accuracy_score(y_val, y_pred_val))\n",
    "\n",
    "# Step 5: Load the test data\n",
    "test_url = \"https://github.com/dustywhite7/Econ8310/raw/master/AssignmentData/assignment3test.csv\"\n",
    "test_data = pd.read_csv(test_url)\n",
    "\n",
    "\n",
    "# Align test data with training data columns\n",
    "test_data_aligned = pd.get_dummies(test_data)\n",
    "test_data_aligned = test_data_aligned.reindex(columns=X_train.columns, fill_value=0)\n",
    "\n",
    "# Generate predictions\n",
    "predict = modelFit.predict(test_data_aligned)\n",
    "\n",
    "# Save predictions as a series\n",
    "pred = pd.Series(predict, name=\"Predictions\")\n",
    "print(pred_series)\n",
    "\n"
   ]
  }
 ],
 "metadata": {
  "kernelspec": {
   "display_name": "Python 3 (ipykernel)",
   "language": "python",
   "name": "python3"
  },
  "language_info": {
   "codemirror_mode": {
    "name": "ipython",
    "version": 3
   },
   "file_extension": ".py",
   "mimetype": "text/x-python",
   "name": "python",
   "nbconvert_exporter": "python",
   "pygments_lexer": "ipython3",
   "version": "3.9.13"
  }
 },
 "nbformat": 4,
 "nbformat_minor": 5
}
