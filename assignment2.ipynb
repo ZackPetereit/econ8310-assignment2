{
 "cells": [
  {
   "cell_type": "code",
   "execution_count": null,
   "id": "098b2971-5d7a-4d7f-aec2-3400a31a72b0",
   "metadata": {},
   "outputs": [
    {
     "name": "stdout",
     "output_type": "stream",
     "text": [
      "Validation Accuracy: 0.8320395201129146\n",
      "0      0.190945\n",
      "1      0.167840\n",
      "2      0.167840\n",
      "3      0.156453\n",
      "4      0.196327\n",
      "         ...   \n",
      "995    0.167840\n",
      "996    0.155746\n",
      "997    0.167840\n",
      "998    0.167279\n",
      "999    0.167840\n",
      "Name: Predictions, Length: 1000, dtype: float64\n",
      "Tjur R-squared: nan\n"
     ]
    },
    {
     "name": "stderr",
     "output_type": "stream",
     "text": [
      "C:\\Users\\zkpet\\anaconda3\\Lib\\site-packages\\numpy\\core\\fromnumeric.py:3504: RuntimeWarning: Mean of empty slice.\n",
      "  return _methods._mean(a, axis=axis, dtype=dtype,\n",
      "C:\\Users\\zkpet\\anaconda3\\Lib\\site-packages\\numpy\\core\\_methods.py:129: RuntimeWarning: invalid value encountered in scalar divide\n",
      "  ret = ret.dtype.type(ret / rcount)\n"
     ]
    },
    {
     "ename": "AssertionError",
     "evalue": "Tjur R-squared is below 0.05. Improve your model.",
     "output_type": "error",
     "traceback": [
      "\u001b[1;31m---------------------------------------------------------------------------\u001b[0m\n",
      "\u001b[1;31mAssertionError\u001b[0m                            Traceback (most recent call last)\n",
      "Cell \u001b[1;32mIn[26], line 57\u001b[0m\n",
      "\u001b[0;32m     54\u001b[0m tjurr_r2 \u001b[38;5;241m=\u001b[39m y1 \u001b[38;5;241m-\u001b[39m y2\n",
      "\u001b[0;32m     56\u001b[0m \u001b[38;5;28mprint\u001b[39m(\u001b[38;5;124m\"\u001b[39m\u001b[38;5;124mTjur R-squared:\u001b[39m\u001b[38;5;124m\"\u001b[39m, tjurr_r2)\n",
      "\u001b[1;32m---> 57\u001b[0m \u001b[38;5;28;01massert\u001b[39;00m tjurr_r2 \u001b[38;5;241m>\u001b[39m \u001b[38;5;241m0.05\u001b[39m, \u001b[38;5;124m\"\u001b[39m\u001b[38;5;124mTjur R-squared is below 0.05. Improve your model.\u001b[39m\u001b[38;5;124m\"\u001b[39m\n",
      "\n",
      "\u001b[1;31mAssertionError\u001b[0m: Tjur R-squared is below 0.05. Improve your model."
     ]
    }
   ],
   "source": [
    "import pandas as pd\n",
    "from sklearn.model_selection import train_test_split\n",
    "from sklearn.ensemble import RandomForestClassifier\n",
    "from sklearn.metrics import accuracy_score\n",
    "from sklearn.tree import DecisionTreeClassifier\n",
    "import numpy as np\n",
    "\n",
    "\n",
    "# Step 1: Load the training data\n",
    "train_url = (\"https://github.com/dustywhite7/Econ8310/raw/master/AssignmentData/assignment3.csv\")\n",
    "data = pd.read_csv(train_url)\n",
    "\n",
    "# Step 2: Define features (X) and target (y)\n",
    "X = data.drop(columns=[\"meal\"])  # Drop the target variable\n",
    "y = data[\"meal\"]  # Define the target variable\n",
    "\n",
    "# Check and preprocess the data\n",
    "# Identify categorical columns\n",
    "categorical_columns = X.select_dtypes(include=[\"object\"]).columns\n",
    "\n",
    "# Apply one-hot encoding to categorical columns\n",
    "X = pd.get_dummies(X, columns=categorical_columns, drop_first=True)\n",
    "\n",
    "# Split the data into training and validation sets\n",
    "X_train, X_val, y_train, y_val = train_test_split(X, y, test_size=0.2)\n",
    "\n",
    "# Step 3: Train the Random Forest model\n",
    "model = RandomForestClassifier(n_estimators=1000, max_depth=20)  # Instantiate the model\n",
    "modelFit = model.fit(X_train, y_train)  # Fit the model to training data\n",
    "\n",
    "# Step 4: Evaluate the model\n",
    "y_pred_val = modelFit.predict(X_val)  # Generate predictions on validation data\n",
    "print(\"Validation Accuracy:\", accuracy_score(y_val, y_pred_val))  # Print accuracy\n",
    "\n",
    "# Step 5: Load the test data\n",
    "test_url = \"https://github.com/dustywhite7/Econ8310/raw/master/AssignmentData/assignment3test.csv\"\n",
    "test_data = pd.read_csv(test_url)\n",
    "\n",
    "# Align test data with training data columns\n",
    "test_data_aligned = pd.get_dummies(test_data)\n",
    "test_data_aligned = test_data_aligned.reindex(columns=X_train.columns, fill_value=0)\n",
    "\n",
    "# Generate predictions\n",
    "predict = modelFit.predict(test_data_aligned)\n",
    "\n",
    "# Save predictions as a series\n",
    "pred = pd.Series(modelFit.predict_proba(test_data_aligned)[:, 1], name=\"Predictions\")\n",
    "print(pred)  # Output predictions\n",
    "\n"
   ]
  }
 ],
 "metadata": {
  "kernelspec": {
   "display_name": "Python 3 (ipykernel)",
   "language": "python",
   "name": "python3"
  },
  "language_info": {
   "codemirror_mode": {
    "name": "ipython",
    "version": 3
   },
   "file_extension": ".py",
   "mimetype": "text/x-python",
   "name": "python",
   "nbconvert_exporter": "python",
   "pygments_lexer": "ipython3",
   "version": "3.9.13"
  }
 },
 "nbformat": 4,
 "nbformat_minor": 5
}
